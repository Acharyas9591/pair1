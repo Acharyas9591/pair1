{
 "cells": [
  {
   "cell_type": "code",
   "execution_count": 7,
   "id": "dcb943ca",
   "metadata": {},
   "outputs": [
    {
     "name": "stdout",
     "output_type": "stream",
     "text": [
      "(1, 5)\n",
      "(7, -1)\n"
     ]
    }
   ],
   "source": [
    "def printPairs(arr, n, sum):    \n",
    "    mydict = dict()\n",
    "    for i in range(n):\n",
    "    \n",
    "         \n",
    "       \n",
    "        temp = sum - arr[i]\n",
    "         \n",
    "        if temp in mydict:\n",
    "            count = mydict[temp]\n",
    "            for j in range(count):\n",
    "                print(\"(\", temp, \", \", arr[i],\n",
    "                      \")\", sep = \"\", end = '\\n')\n",
    "                       \n",
    "        if arr[i] in mydict:\n",
    "            mydict[arr[i]] += 1\n",
    "        else:\n",
    "            mydict[arr[i]] = 1\n",
    " \n",
    "\n",
    "if __name__ == '__main__':\n",
    "     \n",
    "    arr = [ 1, 5, 7, -1, -5 ]\n",
    "    n = len(arr)\n",
    "    sum = 6\n",
    " \n",
    "    printPairs(arr, n, sum)"
   ]
  },
  {
   "cell_type": "code",
   "execution_count": null,
   "id": "bda52cd3",
   "metadata": {},
   "outputs": [],
   "source": []
  },
  {
   "cell_type": "code",
   "execution_count": null,
   "id": "62654c0a",
   "metadata": {},
   "outputs": [],
   "source": []
  }
 ],
 "metadata": {
  "kernelspec": {
   "display_name": "Python 3 (ipykernel)",
   "language": "python",
   "name": "python3"
  },
  "language_info": {
   "codemirror_mode": {
    "name": "ipython",
    "version": 3
   },
   "file_extension": ".py",
   "mimetype": "text/x-python",
   "name": "python",
   "nbconvert_exporter": "python",
   "pygments_lexer": "ipython3",
   "version": "3.9.12"
  }
 },
 "nbformat": 4,
 "nbformat_minor": 5
}
